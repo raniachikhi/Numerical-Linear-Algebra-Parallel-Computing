{
 "cells": [
  {
   "cell_type": "markdown",
   "id": "b3fec2d4",
   "metadata": {},
   "source": [
    "# Numerical Linear Algebra & Parallel Computing"
   ]
  },
  {
   "cell_type": "markdown",
   "id": "2fe83a4c",
   "metadata": {},
   "source": [
    "### Complexity Analysis"
   ]
  },
  {
   "cell_type": "markdown",
   "id": "f27a09c6",
   "metadata": {},
   "source": [
    "##### Problem"
   ]
  },
  {
   "cell_type": "markdown",
   "id": "74b700cd",
   "metadata": {},
   "source": [
    "Given an integer n, count the number of its divisors."
   ]
  },
  {
   "cell_type": "markdown",
   "id": "6bf6a575",
   "metadata": {},
   "source": [
    "##### Solution1"
   ]
  },
  {
   "cell_type": "code",
   "execution_count": 1,
   "id": "9adabbe9",
   "metadata": {},
   "outputs": [],
   "source": [
    "def count_divisors1(n):\n",
    "    count=0\n",
    "    d=1\n",
    "    while d<=n:\n",
    "        if n%d==0:\n",
    "            count +=1\n",
    "        d+=1\n",
    "    return count"
   ]
  },
  {
   "cell_type": "markdown",
   "id": "1f8b6040",
   "metadata": {},
   "source": [
    "##### Solution2"
   ]
  },
  {
   "cell_type": "code",
   "execution_count": 2,
   "id": "6f7e2072",
   "metadata": {},
   "outputs": [],
   "source": [
    "def count_divisors2(n):\n",
    "    count=0\n",
    "    d=1\n",
    "    while d*d<=n:\n",
    "        if n%d==0:\n",
    "            count+=1 if n/d ==d else 2\n",
    "        d +=1\n",
    "    return count"
   ]
  },
  {
   "cell_type": "markdown",
   "id": "057adafb",
   "metadata": {},
   "source": [
    "#### Introduction "
   ]
  },
  {
   "cell_type": "markdown",
   "id": "34ef8fe5",
   "metadata": {},
   "source": [
    "###### 1- Describe solution 1:\n",
    "\n",
    "This Python function count_divisors(n) takes an integer input n and counts the number of divisors of n.\n",
    "\n",
    "The function initializes a variable count to 0 and d to 1. Then it enters a while loop that continues as long as d is less than or equal to n. Within the loop, it checks if n is divisible by d, and if so, increments the count variable by 1.\n",
    "\n",
    "Finally, the function returns the count variable, which represents the number of divisors of n.\n",
    "\n",
    "###### 2- Describe solution 2:\n",
    "\n",
    "This Python function count_divisors(n) takes an integer input n and counts the number of divisors of n.\n",
    "\n",
    "The function initializes a variable count to 0 and d to 1. Then it enters a while loop that continues as long as the square of d is less than or equal to n. \n",
    "\n",
    "Within the loop, it checks if n is divisible by d, and if so, it increments the count variable by 1 if n/d is equal to d, or by 2 if n/d is not equal to d. \n",
    "\n",
    "Finally, the function returns the count variable, which represents the number of divisors of n."
   ]
  },
  {
   "cell_type": "markdown",
   "id": "5a96e22c",
   "metadata": {},
   "source": [
    "###### 3- Run the two programs for different values of n and measure which algorithm is faster:"
   ]
  },
  {
   "cell_type": "code",
   "execution_count": 3,
   "id": "035a1e7e",
   "metadata": {},
   "outputs": [
    {
     "name": "stdout",
     "output_type": "stream",
     "text": [
      "Function 1 execution time for n = 10: 0.0 seconds\n",
      "Function 2 execution time for n = 10: 0.0 seconds\n"
     ]
    }
   ],
   "source": [
    "import time\n",
    "\n",
    "n = 10\n",
    "\n",
    "start_time = time.time()\n",
    "result1 = count_divisors1(n)\n",
    "end_time = time.time()\n",
    "print(\"Function 1 execution time for n = {}: {} seconds\".format(n, end_time - start_time))\n",
    "\n",
    "start_time = time.time()\n",
    "result2 = count_divisors2(n)\n",
    "end_time = time.time()\n",
    "print(\"Function 2 execution time for n = {}: {} seconds\".format(n, end_time - start_time))"
   ]
  },
  {
   "cell_type": "code",
   "execution_count": 4,
   "id": "8ddfe221",
   "metadata": {},
   "outputs": [
    {
     "name": "stdout",
     "output_type": "stream",
     "text": [
      "Function 1 execution time for n = 1000000: 0.11648869514465332 seconds\n",
      "Function 2 execution time for n = 1000000: 0.0 seconds\n"
     ]
    }
   ],
   "source": [
    "import time\n",
    "\n",
    "n = 1000000\n",
    "\n",
    "start_time = time.time()\n",
    "result1 = count_divisors1(n)\n",
    "end_time = time.time()\n",
    "print(\"Function 1 execution time for n = {}: {} seconds\".format(n, end_time - start_time))\n",
    "\n",
    "start_time = time.time()\n",
    "result2 = count_divisors2(n)\n",
    "end_time = time.time()\n",
    "print(\"Function 2 execution time for n = {}: {} seconds\".format(n, end_time - start_time))"
   ]
  },
  {
   "cell_type": "code",
   "execution_count": 5,
   "id": "db6f6b34",
   "metadata": {},
   "outputs": [
    {
     "name": "stdout",
     "output_type": "stream",
     "text": [
      "Function 1 execution time for n = 12000000: 1.139430046081543 seconds\n",
      "Function 2 execution time for n = 12000000: 0.0010018348693847656 seconds\n"
     ]
    }
   ],
   "source": [
    "import time\n",
    "\n",
    "n = 12000000\n",
    "\n",
    "start_time = time.time()\n",
    "result1 = count_divisors1(n)\n",
    "end_time = time.time()\n",
    "print(\"Function 1 execution time for n = {}: {} seconds\".format(n, end_time - start_time))\n",
    "\n",
    "start_time = time.time()\n",
    "result2 = count_divisors2(n)\n",
    "end_time = time.time()\n",
    "print(\"Function 2 execution time for n = {}: {} seconds\".format(n, end_time - start_time))"
   ]
  },
  {
   "cell_type": "markdown",
   "id": "0b462e63",
   "metadata": {},
   "source": [
    "From the results we can see that count_divisors2 is significantly faster than count_divisors1, especially for larger values of n.\n",
    "\n",
    "###### 4-Calculate the number of operations executed by each of the programs for different values of n and generalize for any n:\n",
    "\n",
    "For the count_divisors1 function, the program uses a loop to check all numbers from 1 to n and counts the number of divisors of n. For each number d that it checks, the program does two things:\n",
    "\n",
    "- It performs an arithmetic operation (n % d) to check if d is a divisor of n.\n",
    "- It performs a conditional check (if n % d == 0) to see if d is indeed a divisor of n.\n",
    "\n",
    "So for each number d, the program performs two operations. Since there are n numbers to check, the program performs 2n operations in total.\n",
    "\n",
    "\n",
    "For the count_divisors2 function, the program uses a loop to check all numbers from 1 to the square root of n and counts the number of divisors of n. For each number d that it checks, the program does four things:\n",
    "\n",
    "- It performs an arithmetic operation (n % d) to check if d is a divisor of n.\n",
    "- It performs a conditional check (if n % d == 0) to see if d is indeed a divisor of n.\n",
    "- It performs another arithmetic operation (n / d) to check if n / d is also a divisor of n.\n",
    "- It performs a conditional check (1 if n/d == d else 2) to see if n / d is the same as d.\n",
    "\n",
    "So for each number d, the program performs four operations. Since there are sqrt(n) numbers to check, the program performs 4sqrt(n) operations in total.\n",
    "\n",
    "###### Examples:   For n =100\n",
    "Using the count_divisors1 function:\n",
    "The program iterates over all numbers from 1 to 100 and checks if they are divisors of 100.For each number, the program performs two operations. Since there are 100 numbers to check, the program performs 2 * 100 = 200 operations in total.\n",
    "\n",
    "Using the count_divisors2 function:\n",
    "The program iterates over all numbers from 1 to the square root of 100, which is 10.For each number, the program performs four operations. Since there are 10 numbers to check, the program performs 4 * 10 = 40 operations in total."
   ]
  },
  {
   "cell_type": "markdown",
   "id": "190ae480",
   "metadata": {},
   "source": [
    "#### Big-O notation"
   ]
  },
  {
   "cell_type": "markdown",
   "id": "dbb7c439",
   "metadata": {},
   "source": [
    "###### 1- $T(n) = 3n^3 + 2n^2 + \\frac{1}{2}n +7$. Prove that $T(n) = O(n^3)$\n",
    "\n",
    "By the Big-Oh definition, $T(n)$ is $O(n^3)$ if $T(n) \\leq cn^3$ for some $ n \\geq n_0 $ .\n",
    "\n",
    "\n",
    "We notice that  $3n^3$ dominates the other terms as $n$ gets large. \n",
    "Therefore, we can ignore the other terms and write:\n",
    "$$ T(n) \\leq 3n^3 $$\n",
    "We can choose $c = 3$ and $n_0 = 1$. Then for all $n \\geq n_0$, we have:\n",
    "$$ T(n) \\leq 3n^3 \\leq cn^3 $$\n",
    "\n",
    "\n",
    "This shows that $T(n)$ is bounded above by a constant multiple of $n^3$ for all $n \\geq n_0$, which means that $T(n) = O(n^3)$. "
   ]
  },
  {
   "cell_type": "markdown",
   "id": "21bdc25a",
   "metadata": {},
   "source": [
    "###### 2- Prove: $\\forall k \\geq 1$, $n^k$ is not $O(n^{k-1})$"
   ]
  },
  {
   "cell_type": "markdown",
   "id": "c0bbbdbb",
   "metadata": {},
   "source": [
    "We need to show that for any choice of constants $c$ and $n_0$, there exist infinitely many values of $n \\geq n_0$ such that $n^k > cn^{k-1}$.\n",
    "\n",
    "Assume that $c$ and $n_0$ are arbitrary constants. We want to find infinitely many values of $n$ such that $n^k > cn^{k-1}$. Dividing both sides by $n^{k-1}$, we get:\n",
    "\n",
    "$$n > c$$\n",
    "\n",
    "Since $c$ is a fixed constant, we can choose any value of $n$ greater than $c$ to satisfy this inequality. Furthermore, as $n$ gets larger, the inequality $n > c$ holds for infinitely many values of $n$. Therefore, we have shown that for any choice of constants $c$ and $n_0$, there exist infinitely many values of $n \\geq n_0$ such that $n^k > cn^{k-1}$.\n",
    "\n",
    "This means that $n^k$ is not $O(n^{k-1})$ for any value of $k \\geq 1$, as desired.\n",
    "\n",
    "\n",
    "\n"
   ]
  },
  {
   "cell_type": "markdown",
   "id": "fd4a813d",
   "metadata": {},
   "source": [
    "#### Merge sort"
   ]
  },
  {
   "cell_type": "markdown",
   "id": "783d6f34",
   "metadata": {},
   "source": [
    "###### 1-Given two sorted arrays, write a function(with a language of your choice) that merge the two arrays into a single sorted array."
   ]
  },
  {
   "cell_type": "code",
   "execution_count": 6,
   "id": "b3b0f7ba",
   "metadata": {},
   "outputs": [],
   "source": [
    "def merge(u, v):\n",
    "    w = []\n",
    "    i = 0\n",
    "    j = 0\n",
    "    while i < len(u) and j < len(v):\n",
    "        if u[i] < v[j]:\n",
    "            w.append(u[i])\n",
    "            i += 1\n",
    "        else:\n",
    "            w.append(v[j])\n",
    "            j += 1\n",
    "    while i < len(u):\n",
    "        w.append(u[i])\n",
    "        i += 1\n",
    "    while j < len(v):\n",
    "        w.append(v[j])\n",
    "        j += 1\n",
    "    return w\n"
   ]
  },
  {
   "cell_type": "code",
   "execution_count": 7,
   "id": "ba36f858",
   "metadata": {},
   "outputs": [
    {
     "name": "stdout",
     "output_type": "stream",
     "text": [
      "[0, 1, 1, 2, 3, 4]\n"
     ]
    }
   ],
   "source": [
    "u = [0,1, 3]\n",
    "v = [1, 2, 4]\n",
    "\n",
    "w = merge(u, v)\n",
    "\n",
    "print(w)  \n"
   ]
  },
  {
   "cell_type": "markdown",
   "id": "c0f41263",
   "metadata": {},
   "source": [
    "###### 2-Analyse the complexity of your function using Big-O notation:"
   ]
  },
  {
   "cell_type": "markdown",
   "id": "edfd846c",
   "metadata": {},
   "source": [
    "- We first initialize an empty list which takes O(1) time complexity.\n",
    "- We iterate through all the elements in the input arrays once, this takes O(n) time complexity, where n is the length of the input arrays.\n",
    "- We return the merged array, which takes O(1) time complexity.\n",
    "- Then the total time complexity of the merge function is O(n)."
   ]
  },
  {
   "cell_type": "markdown",
   "id": "b7d85440",
   "metadata": {},
   "source": [
    "#### The master method"
   ]
  },
  {
   "cell_type": "markdown",
   "id": "525bcf8c",
   "metadata": {},
   "source": [
    "###### 1- Using the master method analyse the complexity of merge sort:"
   ]
  },
  {
   "cell_type": "markdown",
   "id": "d6f4ff04",
   "metadata": {},
   "source": [
    "We have a=2, b=2 and f(n)=$O(n)$.\n",
    "\n",
    "Then, the relation can be expressed as : $$T(n)=2T(\\frac{n}{2})+O(n)$$\n",
    "\n",
    "We have $d= log_2(2)=1$\n",
    "\n",
    "Then, $$T(n)= O(nlog(n))$$\n"
   ]
  },
  {
   "cell_type": "markdown",
   "id": "624b6f1f",
   "metadata": {},
   "source": [
    "###### 2- Using the master method analyse the complexity of  binary search:"
   ]
  },
  {
   "cell_type": "markdown",
   "id": "631cb424",
   "metadata": {},
   "source": [
    "We have a=1, b=2 and f(n)=$O(n)$.\n",
    "\n",
    "The relation can be expressed as :\n",
    "$$T(n)=T(\\frac{n}{2})+ O(1)$$\n",
    "\n",
    "We have $d=log_2(1)=0$\n",
    "\n",
    "Then,\n",
    "$$T(n)= O(log(n))$$"
   ]
  },
  {
   "cell_type": "markdown",
   "id": "1165c14b",
   "metadata": {},
   "source": [
    "#### Bonus"
   ]
  },
  {
   "cell_type": "markdown",
   "id": "0676bc06",
   "metadata": {},
   "source": [
    "###### 1- Write a function called merge sort (using a language of your choice) that takes two arrays as parameters and sort those  two arrays using the merge sort algorithm."
   ]
  },
  {
   "cell_type": "code",
   "execution_count": 8,
   "id": "9bd399c3",
   "metadata": {},
   "outputs": [],
   "source": [
    "def merge_sort(u, v):\n",
    "    if len(u) <= 1 and len(v) <= 1:\n",
    "        return merge(u, v)\n",
    "    \n",
    "    mid1 = len(u) // 2\n",
    "    left1 = u[:mid1]\n",
    "    right1 = u[mid1:]\n",
    "    \n",
    "    mid2 = len(v) // 2\n",
    "    left2 = v[:mid2]\n",
    "    right2 = v[mid2:]\n",
    "    \n",
    "    sorted_left = merge_sort(left1, left2)\n",
    "    sorted_right = merge_sort(right1, right2)\n",
    "    \n",
    "    return merge(sorted_left, sorted_right)\n"
   ]
  },
  {
   "cell_type": "code",
   "execution_count": 9,
   "id": "4a5ed180",
   "metadata": {},
   "outputs": [
    {
     "name": "stdout",
     "output_type": "stream",
     "text": [
      "[0, 1, 1, 2, 3, 4, 4, 5, 6, 7, 8, 9, 10]\n"
     ]
    }
   ],
   "source": [
    "u = [10,1, 3,4,7,8]\n",
    "v = [1, 2, 4,5,6,9,0]\n",
    "\n",
    "w = merge_sort(u, v)\n",
    "\n",
    "print(w) "
   ]
  },
  {
   "cell_type": "markdown",
   "id": "f92f3ce2",
   "metadata": {},
   "source": [
    "###### 2- Analyse the complexity of your algorithm without using the master theorem:"
   ]
  },
  {
   "cell_type": "markdown",
   "id": "1aee03b1",
   "metadata": {},
   "source": [
    "The algorithm works by dividing the input array into halves until it reaches the base case of an array with one element. The divide step takes O(1) time, and the conquer step involves merging two sorted subarrays, which takes O(n) time in the worst case. The merge step is performed log n times since the array is divided into halves at each level, so the overall time complexity is O(n log n)."
   ]
  },
  {
   "cell_type": "markdown",
   "id": "147f9790",
   "metadata": {},
   "source": [
    "###### 3- Prove the 3 cases of the master theorem: \n",
    "\n",
    "Consider the recurrence $$T(n)=aT(n/b)+f(n)  . (1) $$\n",
    "\n",
    "\n",
    "The solution of the recurrence is\n",
    "$$\n",
    "T(n)=\\sum_{i=0}^{\\log _6 n} a^i f\\left(n / b^i\\right)+O\\left(n^{\\log _s a}\\right) . (2)\n",
    "$$\n",
    "This can be seen by drawing the tree generated by the recurrence (1). The tree has depth $\\log _b n$ and branching factor $a$. There are $a^i$ nodes at level $i$, each labeled $f\\left(n / b^i\\right)$. The value of $T(n)$ is the sum of the labels of all the nodes of the tree. The sum (2) is obtained by summing the ith level sums. The last term $O\\left(n^{\\log _b a}\\right)$ is the sum across the leaves, which is $a^{\\log _s n} f(1)=$ $n^{\\log _s a} f(1)$. The diagram shows the case $a=2$."
   ]
  },
  {
   "cell_type": "markdown",
   "id": "7f61045d",
   "metadata": {},
   "source": [
    "Case 1: If $f(n)=O\\left(n^{\\log _b a-\\epsilon}\\right)$ for some constant $\\varepsilon>0$, then $T(n)=O\\left(n^{\\log _b a}\\right)$.\n",
    "\n",
    "\n",
    "From (2), we have\n",
    "$$\n",
    "T(n)=\\sum_{i=0}^{\\log _b n} a^i f\\left(n / b^i\\right)+O\\left(n^{\\log _b a}\\right) \\leq \\sum_{i=0}^{\\log _s n} a^i\\left(n / b^i\\right)^{\\log _b a-\\epsilon}+O\\left(n^{\\log _b a}\\right) \n",
    "$$ (3)\n",
    "and\n",
    "$$\n",
    "\\begin{aligned}\n",
    "\\sum_{i=0}^{\\log _b n} a^i\\left(n / b^i\\right)^{\\log _b a-\\epsilon} & =n^{\\log _b a-\\epsilon} \\sum_{i=0}^{\\log _b n} a^i b^{-i \\log _b a} b^{i \\epsilon}=n^{\\log _b a-\\epsilon} \\sum_{i=0}^{\\log _b n} a^i a^{-i} b^{i \\epsilon} \\\\\n",
    "& =n^{\\log _b a-\\epsilon} \\sum_{i=0}^{log_b n} b^{\\epsilon i}=n^{\\log _b a-\\epsilon} \\frac{b^{\\epsilon \\left(\\log _b n+1\\right)}-1}{b^\\epsilon-1} \\\\\n",
    "& =n^{\\log _b a-\\epsilon} \\frac{n^\\epsilon b^\\epsilon-1}{b^\\epsilon-1} \\leq n^{\\log _b a-\\epsilon} \\frac{n^\\epsilon b^\\epsilon}{b^\\epsilon-1}=n^{\\log _b a} \\frac{b^\\epsilon}{b^\\epsilon-1} \\\\\n",
    "& =O\\left(n^{\\log _b a}\\right) .\n",
    "\\end{aligned}\n",
    "$$\n",
    "Combining this with $(3)$. we get $T(n)=O\\left(n^{\\log _b a}\\right)$."
   ]
  },
  {
   "cell_type": "markdown",
   "id": "6096667a",
   "metadata": {},
   "source": [
    "Case 2:  If $f(n)=\\Theta\\left(n^{\\log _s a}\\right)$, then $T(n)=\\Theta\\left(n^{\\log _b a} \\log n\\right)$.\n",
    "\n",
    "\n",
    "Here we have\n",
    "$$\n",
    "\\begin{aligned}\n",
    "\\sum_{i=0}^{\\log _b n} a^i\\left(n / b^i\\right)^{\\log _b a} & =n^{\\log _b a} \\sum_{i=0}^{\\log _b n} a^i b^{-i \\log _b a}=n^{\\log _b a} \\sum_{i=0}^{\\log _b n} a^i a^{-i} \\\\\n",
    "& =n^{\\log _b a}\\left(\\log _b n+1\\right)=\\Theta\\left(n^{\\log _b a} \\log n\\right),\n",
    "\\end{aligned}\n",
    "$$\n",
    "Combining this with (2) and the assumption of (B), to within constant factor bounds we have\n",
    "$$\n",
    "\\begin{aligned}\n",
    "T(n) & =\\sum_{i=0}^{\\log _b n} a^i f\\left(n / b^i\\right)+O\\left(n^{\\log _b a}\\right)=\\sum_{i=0}^{\\log _b n} a^i\\left(n / b^i\\right)^{\\log _b a}+O\\left(n^{\\log _b a}\\right) \\\\\n",
    "& =\\Theta\\left(n^{\\log _b a} \\log n\\right)+O\\left(n^{\\log _b a}\\right)=\\Theta\\left(n^{\\log _b a} \\log n\\right) .\n",
    "\\end{aligned}\n",
    "$$"
   ]
  },
  {
   "cell_type": "markdown",
   "id": "924da0bb",
   "metadata": {},
   "source": [
    "Case 3: If $f(n)=\\Omega\\left(n^{\\log _s a+\\varepsilon}\\right)$ for some constant $\\varepsilon>0$, and if $f$ satisfies the smoothness condition $a f(n / b) \\leq c f(n)$ for some constant $c<1$, then $T(n)=\\Theta(f(n))$\n",
    "\n",
    "\n",
    "The lower bound is immediate, because $f(n)$ is a term of the sum (2). For the upper bound, we will use the smoothness condition. This condition is satisfied by $f(n)=n^{\\mathrm{log_b} a+\\epsilon}$ for any $\\varepsilon>0$ with $c=b^{-\\epsilon}<1$ :\n",
    "$$\n",
    "a f(n / b)=a(n / b)^{\\log _b a+\\epsilon}=a n^{\\log _b a+\\epsilon} b^{-\\log _b a} b^{-\\epsilon}=f(n) b^{-\\epsilon} .\n",
    "$$\n",
    "$$\n",
    "$$\n",
    "In this case, we have $a^i f\\left(n / b^i\\right) \\leq c^i f(n)$ (easy induction on $i$ using the smoothness condition), therefore\n",
    "$$\n",
    "\\begin{aligned}\n",
    "T(n) & =\\sum_{i=0}^{\\log _b n} a^i f\\left(n / b^i\\right)+O\\left(n^{\\log _b a}\\right) \\leq \\sum_{i=0}^{\\log _b n} c^i f(n)+O\\left(n^{\\log _b a}\\right) \\\\\n",
    "& \\leq f(n) \\sum_{i=0}^{\\infty} c^i+O\\left(n^{\\log _b a}\\right)=f(n) \\frac{1}{1-c}+O\\left(n^{\\log _b a}\\right)=O(f(n))\n",
    "\\end{aligned}\n",
    "$$"
   ]
  },
  {
   "cell_type": "markdown",
   "id": "13e88c4c",
   "metadata": {},
   "source": [
    "###### 4- Choose an algorithm of your choice and analyse its complexity using the Big-O notation:"
   ]
  },
  {
   "cell_type": "code",
   "execution_count": 10,
   "id": "9862efd9",
   "metadata": {},
   "outputs": [],
   "source": [
    "def bubble_sort(arr):\n",
    "    n = len(arr)\n",
    "    for i in range(n):\n",
    "        for j in range(0, n-i-1):\n",
    "            if arr[j] > arr[j+1] :\n",
    "                arr[j], arr[j+1] = arr[j+1], arr[j]\n",
    "    return arr"
   ]
  },
  {
   "cell_type": "markdown",
   "id": "27a75c05",
   "metadata": {},
   "source": [
    "In this algorithm, we have two nested loops. The outer loop iterates through the list once for each element, while the inner loop iterates through the unsorted part of the list and compares adjacent elements. Therefore, the worst-case time complexity of the algorithm is O(n^2), as we have two nested loops that iterate through the list of n elements."
   ]
  },
  {
   "cell_type": "markdown",
   "id": "9608c3db",
   "metadata": {},
   "source": [
    "#### Matrix multiplication"
   ]
  },
  {
   "cell_type": "markdown",
   "id": "84f9b7e5",
   "metadata": {},
   "source": [
    "###### 1- Write a function using python3 that multiply two matrices A,B (without the use of numpy or any external library): "
   ]
  },
  {
   "cell_type": "code",
   "execution_count": 11,
   "id": "80618d8f",
   "metadata": {},
   "outputs": [],
   "source": [
    "def matrix_multiply(A, B):\n",
    "\n",
    "    m, n = len(A), len(A[0])\n",
    "    p, q = len(B), len(B[0])\n",
    "\n",
    "    if n != p:\n",
    "        print(\"Error:The matrices can't be multiplied\")\n",
    "        return None\n",
    "\n",
    "    C = [[0 for j in range(q)] for i in range(m)]\n",
    "    \n",
    "    for i in range(m):\n",
    "        for j in range(q):\n",
    "            for k in range(n):\n",
    "                C[i][j] += A[i][k] * B[k][j]\n",
    "    \n",
    "    return C"
   ]
  },
  {
   "cell_type": "code",
   "execution_count": 12,
   "id": "b1677e3c",
   "metadata": {},
   "outputs": [
    {
     "name": "stdout",
     "output_type": "stream",
     "text": [
      "[[19, 22], [43, 50]]\n"
     ]
    }
   ],
   "source": [
    "A = [[1, 2], [3, 4]]\n",
    "B = [[5, 6], [7, 8]]\n",
    "C = matrix_multiply(A, B)\n",
    "print(C)"
   ]
  },
  {
   "cell_type": "code",
   "execution_count": 13,
   "id": "7a1d7736",
   "metadata": {},
   "outputs": [
    {
     "name": "stdout",
     "output_type": "stream",
     "text": [
      "Error:The matrices can't be multiplied\n",
      "None\n"
     ]
    }
   ],
   "source": [
    "A = [[1, 2], [3, 4]]\n",
    "B = [[5, 6], [7, 8],[3, 4]]\n",
    "C = matrix_multiply(A, B)\n",
    "print(C)"
   ]
  },
  {
   "cell_type": "markdown",
   "id": "90b74dfc",
   "metadata": {},
   "source": [
    "###### 2- What is the complexity of your algorithm (using Big-O notation)?"
   ]
  },
  {
   "cell_type": "markdown",
   "id": "0c7c18e4",
   "metadata": {},
   "source": [
    "The time complexity of this algorithm is O(mnp), where m, n, and p are the dimensions of the matrices A, B, and C, respectively. Since we are assuming that the matrices are square (i.e., m = n = p), we can simplify this to O($n^3$)."
   ]
  },
  {
   "cell_type": "markdown",
   "id": "f377bf92",
   "metadata": {},
   "source": [
    "###### 3- Write the same function in C.(bonus) "
   ]
  },
  {
   "cell_type": "code",
   "execution_count": null,
   "id": "915067f4",
   "metadata": {
    "vscode": {
     "languageId": "plaintext"
    }
   },
   "outputs": [],
   "source": [
    "#include <stdio.h>\n",
    "\n",
    "void matrix_multiply(int m, int n, int p, int q, int A[][n], int B[][q], int C[][q]) {\n",
    "    int i, j, k;\n",
    "    for (i = 0; i < m; i++) {\n",
    "        for (j = 0; j < q; j++) {\n",
    "            for (k = 0; k < n; k++) {\n",
    "                C[i][j] += A[i][k] * B[k][j];\n",
    "            }\n",
    "        }\n",
    "    }\n",
    "}"
   ]
  },
  {
   "cell_type": "markdown",
   "id": "79ef28c5",
   "metadata": {},
   "source": [
    "###### 4- Optimize this multiplication and describe each step of your optimisation: "
   ]
  },
  {
   "cell_type": "code",
   "execution_count": 14,
   "id": "df72839e",
   "metadata": {},
   "outputs": [],
   "source": [
    "import numpy as np\n",
    "\n",
    "def matmul_optimized(A, B):\n",
    "    m, n, p = len(A), len(A[0]), len(B[0])\n",
    "    C = np.zeros((m, p))\n",
    "    block_size = 16\n",
    "    \n",
    "    for i in range(0, m, block_size):\n",
    "        for j in range(0, p, block_size):\n",
    "            for k in range(0, n, block_size):\n",
    "                for ii in range(i, min(i+block_size, m)):\n",
    "                    for jj in range(j, min(j+block_size, p)):\n",
    "                        cij = C[ii][jj]\n",
    "                        for kk in range(k, min(k+block_size, n)):\n",
    "                            cij += A[ii][kk] * B[kk][jj]\n",
    "                        C[ii][jj] = cij\n",
    "                        \n",
    "    return C\n"
   ]
  },
  {
   "cell_type": "markdown",
   "id": "70282602",
   "metadata": {},
   "source": [
    "In this optimized version, we use a block size of 16, which means that we divide the matrices into 16x16 submatrices that fit into the cache. We then loop over these submatrices and perform the matrix multiplication on them. Within each submatrix, we use loop unrolling to reduce the overhead of the loop control statements. We also use vectorization by using NumPy's zeros function to initialize the output matrix C. Finally, we use NumPy's implementation of matrix multiplication, which is optimized for performance."
   ]
  },
  {
   "cell_type": "markdown",
   "id": "3a65a287",
   "metadata": {},
   "source": [
    "#### Quiz:"
   ]
  },
  {
   "cell_type": "markdown",
   "id": "556bd4fb",
   "metadata": {},
   "source": [
    "###### 1- What will be the time complexity for the following fragment of code?: "
   ]
  },
  {
   "cell_type": "raw",
   "id": "59296fc7",
   "metadata": {},
   "source": [
    "C=10\n",
    "B=0\n",
    "for i in range(n):\n",
    "    B +=i*C"
   ]
  },
  {
   "cell_type": "markdown",
   "id": "2b130560",
   "metadata": {},
   "source": [
    "Solution: $$O(n)$$"
   ]
  },
  {
   "cell_type": "markdown",
   "id": "e71d18c9",
   "metadata": {},
   "source": [
    "###### 2- What will be the time complexity for the following fragment of code?: "
   ]
  },
  {
   "cell_type": "raw",
   "id": "c179a0de",
   "metadata": {},
   "source": [
    "i=0\n",
    "while i < n:\n",
    "    i *= k"
   ]
  },
  {
   "cell_type": "markdown",
   "id": "b6979356",
   "metadata": {},
   "source": [
    "Solution : $$O(log_k(n))$$"
   ]
  },
  {
   "cell_type": "markdown",
   "id": "96559643",
   "metadata": {},
   "source": [
    "###### 3- What will be the time complexity for the following fragment of code?: "
   ]
  },
  {
   "cell_type": "raw",
   "id": "c0d80903",
   "metadata": {},
   "source": [
    "for i in range(n):\n",
    "    for j in range(m):"
   ]
  },
  {
   "cell_type": "markdown",
   "id": "1b9d953a",
   "metadata": {},
   "source": [
    "Solution: $$O(n*m)$$"
   ]
  }
 ],
 "metadata": {
  "kernelspec": {
   "display_name": "Python 3 (ipykernel)",
   "language": "python",
   "name": "python3"
  },
  "language_info": {
   "codemirror_mode": {
    "name": "ipython",
    "version": 3
   },
   "file_extension": ".py",
   "mimetype": "text/x-python",
   "name": "python",
   "nbconvert_exporter": "python",
   "pygments_lexer": "ipython3",
   "version": "3.9.7"
  }
 },
 "nbformat": 4,
 "nbformat_minor": 5
}
