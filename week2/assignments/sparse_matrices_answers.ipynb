{
 "cells": [
  {
   "cell_type": "markdown",
   "id": "aea03da3",
   "metadata": {},
   "source": [
    "In this assignement, feel free to use the `sparse` module from `scipy`."
   ]
  },
  {
   "cell_type": "markdown",
   "id": "2df42bcc",
   "metadata": {},
   "source": [
    "Use the cell below for your imports."
   ]
  },
  {
   "cell_type": "code",
   "execution_count": 18,
   "id": "e9644e55",
   "metadata": {},
   "outputs": [],
   "source": [
    "import numpy as np\n",
    "from scipy import sparse\n",
    "from scipy.sparse import coo_matrix, csr_matrix\n",
    "from scipy.sparse.linalg import spsolve"
   ]
  },
  {
   "cell_type": "markdown",
   "id": "8948a816",
   "metadata": {},
   "source": [
    "implement the function `mat_mul_coo` that takes two sparse matrices in `coo` and returns their product."
   ]
  },
  {
   "cell_type": "code",
   "execution_count": 7,
   "id": "40664ce1",
   "metadata": {},
   "outputs": [],
   "source": [
    "def mat_mul_coo(a, b):\n",
    "    # Make sure the matrices are in COO format\n",
    "    a = a.tocoo()\n",
    "    b = b.tocoo()\n",
    "\n",
    "    # Check if the dimensions are compatible for matrix multiplication\n",
    "    if a.shape[1] != b.shape[0]:\n",
    "        raise ValueError(\"Matrix dimensions do not match for multiplication\")\n",
    "\n",
    "    # Compute the product of the two matrices using the built-in dot function\n",
    "    c = a.dot(b).tocoo()\n",
    "\n",
    "    return c\n"
   ]
  },
  {
   "cell_type": "code",
   "execution_count": 8,
   "id": "ee064f32",
   "metadata": {},
   "outputs": [
    {
     "name": "stdout",
     "output_type": "stream",
     "text": [
      "<class 'scipy.sparse.coo.coo_matrix'>\n",
      "--------------\n",
      "<class 'scipy.sparse.coo.coo_matrix'>\n",
      "--------------\n",
      "<class 'scipy.sparse.coo.coo_matrix'>\n",
      "--------------\n",
      "[[  7  18  28]\n",
      " [ 44  27  78]\n",
      " [101   0 112]]\n"
     ]
    }
   ],
   "source": [
    "a = coo_matrix(np.array([[1, 2, 0], [0, 3, 4], [5, 0, 6]]))\n",
    "print(type(a))\n",
    "print('--------------')\n",
    "b = coo_matrix(np.array([[7, 0, 8], [0, 9, 10], [11, 0, 12]]))\n",
    "print(type(b))\n",
    "print('--------------')\n",
    "c = mat_mul_coo(a, b)\n",
    "print(type(c))\n",
    "print('--------------')\n",
    "print(c.toarray())\n"
   ]
  },
  {
   "cell_type": "code",
   "execution_count": 9,
   "id": "8147522c",
   "metadata": {},
   "outputs": [
    {
     "name": "stdout",
     "output_type": "stream",
     "text": [
      "<class 'list'>\n",
      "--------------\n",
      "<class 'list'>\n",
      "--------------\n",
      "<class 'numpy.ndarray'>\n",
      "--------------\n",
      "[[  7  18  28]\n",
      " [ 44  27  78]\n",
      " [101   0 112]]\n"
     ]
    }
   ],
   "source": [
    "A=[[1, 2, 0], [0, 3, 4], [5, 0, 6]]\n",
    "print(type(A))\n",
    "print('--------------')\n",
    "B=[[7, 0, 8], [0, 9, 10], [11, 0, 12]]\n",
    "print(type(B))\n",
    "print('--------------')\n",
    "C= np.dot(A,B)\n",
    "print(type(C))\n",
    "print('--------------')\n",
    "print(C)"
   ]
  },
  {
   "cell_type": "markdown",
   "id": "4a626dec",
   "metadata": {},
   "source": [
    "implement the function `mat_mul_csr` that takes two sparse matrices in `csr` format and returns their product."
   ]
  },
  {
   "cell_type": "code",
   "execution_count": 12,
   "id": "750235e2",
   "metadata": {},
   "outputs": [],
   "source": [
    "from scipy.sparse import csr_matrix\n",
    "\n",
    "def mat_mul_csr(A, B):\n",
    "    # Make sure the matrices are in CSR format\n",
    "    A = csr_matrix(A)\n",
    "    B = csr_matrix(B)\n",
    "\n",
    "    # Check if the dimensions are compatible for matrix multiplication\n",
    "    if A.shape[1] != B.shape[0]:\n",
    "        raise ValueError(\"Matrix dimensions do not match for multiplication\")\n",
    "\n",
    "    # Compute the product of the two matrices using the built-in dot function\n",
    "    C = A.dot(B)\n",
    "\n",
    "    return C\n"
   ]
  },
  {
   "cell_type": "code",
   "execution_count": 15,
   "id": "a1d4e3a5",
   "metadata": {},
   "outputs": [
    {
     "name": "stdout",
     "output_type": "stream",
     "text": [
      "<class 'scipy.sparse.csr.csr_matrix'>\n",
      "--------------\n",
      "<class 'scipy.sparse.csr.csr_matrix'>\n",
      "--------------\n",
      "<class 'scipy.sparse.csr.csr_matrix'>\n",
      "--------------\n",
      "[[  7  18  28]\n",
      " [ 44  27  78]\n",
      " [101   0 112]]\n"
     ]
    }
   ],
   "source": [
    "a = csr_matrix(np.array([[1, 2, 0], [0, 3, 4], [5, 0, 6]]))\n",
    "print(type(a))\n",
    "print('--------------')\n",
    "b = csr_matrix(np.array([[7, 0, 8], [0, 9, 10], [11, 0, 12]]))\n",
    "print(type(b))\n",
    "print('--------------')\n",
    "c = mat_mul_csr(a, b)\n",
    "print(type(c))\n",
    "print('--------------')\n",
    "print(c.toarray())"
   ]
  },
  {
   "cell_type": "markdown",
   "id": "9592a90b",
   "metadata": {},
   "source": [
    "implement a function `solve_lin_sys` that takes a matrix `A` in `csr` format and a vector `b` as a numpy array and solves the system `Ax = b`."
   ]
  },
  {
   "cell_type": "code",
   "execution_count": 16,
   "id": "00edeb4c",
   "metadata": {},
   "outputs": [],
   "source": [
    "def solve_lin_sys(A: csr_matrix, b: np.ndarray) -> np.ndarray:\n",
    "    if A.shape[0] != A.shape[1] or A.shape[0] != b.shape[0]:\n",
    "        raise ValueError(\"Invalid dimensions for A and b\")\n",
    "\n",
    "    x = spsolve(A, b)\n",
    "    return x\n"
   ]
  },
  {
   "cell_type": "code",
   "execution_count": 19,
   "id": "76cd1c52",
   "metadata": {},
   "outputs": [
    {
     "name": "stdout",
     "output_type": "stream",
     "text": [
      "[-1.  1.  4.]\n"
     ]
    }
   ],
   "source": [
    "A = csr_matrix([[3, 0, 1], [0, 2, 0], [1, 0, 1]])\n",
    "b = np.array([1, 2, 3])\n",
    "x = solve_lin_sys(A, b)\n",
    "print(x)"
   ]
  }
 ],
 "metadata": {
  "kernelspec": {
   "display_name": "Python 3 (ipykernel)",
   "language": "python",
   "name": "python3"
  },
  "language_info": {
   "codemirror_mode": {
    "name": "ipython",
    "version": 3
   },
   "file_extension": ".py",
   "mimetype": "text/x-python",
   "name": "python",
   "nbconvert_exporter": "python",
   "pygments_lexer": "ipython3",
   "version": "3.9.7"
  }
 },
 "nbformat": 4,
 "nbformat_minor": 5
}
