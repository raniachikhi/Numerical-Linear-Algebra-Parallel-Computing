{
 "cells": [
  {
   "cell_type": "markdown",
   "id": "87d64ccf",
   "metadata": {},
   "source": [
    "Use this cell for all your imports"
   ]
  },
  {
   "cell_type": "code",
   "execution_count": 2,
   "id": "40623a0d",
   "metadata": {},
   "outputs": [],
   "source": [
    "import numpy as np\n",
    "import networkx as nx\n",
    "import matplotlib.pyplot as plt"
   ]
  },
  {
   "cell_type": "markdown",
   "id": "164f305b",
   "metadata": {},
   "source": [
    "You will be working with the file data.txt. Use this cell to load its content into the appropriate data structure."
   ]
  },
  {
   "cell_type": "code",
   "execution_count": 3,
   "id": "be42fee4",
   "metadata": {},
   "outputs": [],
   "source": [
    "G = nx.DiGraph()\n",
    "\n",
    "with open(\"data.txt\", \"r\") as f:\n",
    "    # Skip over any lines that start with \"#\" or contain only whitespace\n",
    "    for line in f:\n",
    "        line = line.strip()\n",
    "        if line.startswith(\"#\") or not line:\n",
    "            continue\n",
    "        \n",
    "        # Parse the source and destination nodes of the edge\n",
    "        u, v = map(int, line.split())\n",
    "        G.add_edge(u, v)\n"
   ]
  },
  {
   "cell_type": "markdown",
   "id": "4c7a8af4",
   "metadata": {},
   "source": [
    "Use this cell to normalize the matrix as you see fit."
   ]
  },
  {
   "cell_type": "code",
   "execution_count": 4,
   "id": "d52725f1",
   "metadata": {},
   "outputs": [],
   "source": [
    "# Load the graph from the file\n",
    "G = nx.read_edgelist(\"data.txt\", nodetype=int, create_using=nx.DiGraph())\n",
    "\n",
    "# Get the adjacency matrix as a numpy array\n",
    "A = nx.to_numpy_array(G)\n",
    "\n",
    "# Normalize the matrix to make it stochastic\n",
    "out_degree = A.sum(axis=1)\n",
    "D = np.diag(out_degree + 1e-6) # Add a small constant to ensure invertibility\n",
    "P = np.linalg.inv(D) @ A\n",
    "\n",
    "# P now represents the normalized stochastic matrix for the graph\n"
   ]
  },
  {
   "cell_type": "markdown",
   "id": "5a4ee89a",
   "metadata": {},
   "source": [
    "Apply the PageRank algorithm to the matrix you created."
   ]
  },
  {
   "cell_type": "code",
   "execution_count": 5,
   "id": "ae9319ef",
   "metadata": {},
   "outputs": [],
   "source": [
    "# Apply the power iteration method to compute PageRank\n",
    "alpha = 0.85 # damping factor\n",
    "n = P.shape[0] # number of nodes\n",
    "r = np.ones(n) / n # initial PageRank vector\n",
    "tol = 1e-6 # convergence tolerance\n",
    "max_iter = 100 # maximum number of iterations\n",
    "\n",
    "for i in range(max_iter):\n",
    "    r_new = alpha * (P @ r) + (1 - alpha) / n\n",
    "    if np.linalg.norm(r_new - r) < tol:\n",
    "        break\n",
    "    r = r_new\n",
    "\n",
    "# r now represents the PageRank vector for the graph\n"
   ]
  },
  {
   "cell_type": "markdown",
   "id": "005047ad",
   "metadata": {},
   "source": [
    "Output a list of the 100 most important papers along with their importance"
   ]
  },
  {
   "cell_type": "code",
   "execution_count": 6,
   "id": "425be6d7",
   "metadata": {},
   "outputs": [
    {
     "name": "stdout",
     "output_type": "stream",
     "text": [
      "Node ID: 10273, PageRank Score: 3.600989391853544e-05\n",
      "Node ID: 9301082, PageRank Score: 3.600989391853544e-05\n",
      "Node ID: 9201015, PageRank Score: 3.600989391853544e-05\n",
      "Node ID: 6187, PageRank Score: 3.600989391853544e-05\n",
      "Node ID: 9207016, PageRank Score: 3.600989391853544e-05\n",
      "Node ID: 9206056, PageRank Score: 3.600989391853544e-05\n",
      "Node ID: 9404069, PageRank Score: 3.600989391853544e-05\n",
      "Node ID: 9404072, PageRank Score: 3.600989391853544e-05\n",
      "Node ID: 205224, PageRank Score: 3.600989391853544e-05\n",
      "Node ID: 9308141, PageRank Score: 3.600989391853544e-05\n",
      "Node ID: 9308150, PageRank Score: 3.600989391853544e-05\n",
      "Node ID: 9307086, PageRank Score: 3.600989391853544e-05\n",
      "Node ID: 201090, PageRank Score: 2.9972285336989957e-05\n",
      "Node ID: 111056, PageRank Score: 2.9718886763189668e-05\n",
      "Node ID: 203087, PageRank Score: 2.9684154884759073e-05\n",
      "Node ID: 304075, PageRank Score: 2.95414489586478e-05\n",
      "Node ID: 9810028, PageRank Score: 2.9423142442436335e-05\n",
      "Node ID: 107042, PageRank Score: 2.9175075495770925e-05\n",
      "Node ID: 11278, PageRank Score: 2.916548527879574e-05\n",
      "Node ID: 203014, PageRank Score: 2.9062760528103487e-05\n",
      "Node ID: 208169, PageRank Score: 2.901439594564085e-05\n",
      "Node ID: 303116, PageRank Score: 2.8960921651381753e-05\n",
      "Node ID: 111168, PageRank Score: 2.8890148442039435e-05\n",
      "Node ID: 112011, PageRank Score: 2.886916891505496e-05\n",
      "Node ID: 303125, PageRank Score: 2.8798311323915704e-05\n",
      "Node ID: 304148, PageRank Score: 2.877237796941375e-05\n",
      "Node ID: 211183, PageRank Score: 2.8705403658358418e-05\n",
      "Node ID: 212104, PageRank Score: 2.865113929570922e-05\n",
      "Node ID: 102093, PageRank Score: 2.8623161448824003e-05\n",
      "Node ID: 203136, PageRank Score: 2.8602890126755058e-05\n",
      "Node ID: 212155, PageRank Score: 2.857683575162736e-05\n",
      "Node ID: 303220, PageRank Score: 2.8507918834178888e-05\n",
      "Node ID: 210033, PageRank Score: 2.847902514439026e-05\n",
      "Node ID: 210169, PageRank Score: 2.8457196820075668e-05\n",
      "Node ID: 211198, PageRank Score: 2.8433285392767077e-05\n",
      "Node ID: 210199, PageRank Score: 2.8387056342544174e-05\n",
      "Node ID: 106261, PageRank Score: 2.8370872047391754e-05\n",
      "Node ID: 106134, PageRank Score: 2.836332750070472e-05\n",
      "Node ID: 201261, PageRank Score: 2.835558061275595e-05\n",
      "Node ID: 7229, PageRank Score: 2.834150371725219e-05\n",
      "Node ID: 12082, PageRank Score: 2.8326844166811302e-05\n",
      "Node ID: 106001, PageRank Score: 2.832493010350048e-05\n",
      "Node ID: 301250, PageRank Score: 2.8300994931455063e-05\n",
      "Node ID: 211220, PageRank Score: 2.830099283318819e-05\n",
      "Node ID: 212118, PageRank Score: 2.8300310320804416e-05\n",
      "Node ID: 302064, PageRank Score: 2.8268204827931998e-05\n",
      "Node ID: 210066, PageRank Score: 2.8247674496761482e-05\n",
      "Node ID: 212197, PageRank Score: 2.823626698786966e-05\n",
      "Node ID: 9910093, PageRank Score: 2.819141211005466e-05\n",
      "Node ID: 110103, PageRank Score: 2.8172135030338867e-05\n",
      "Node ID: 11152, PageRank Score: 2.8168563851786305e-05\n",
      "Node ID: 210102, PageRank Score: 2.8165298013227552e-05\n",
      "Node ID: 207269, PageRank Score: 2.8159637082090894e-05\n",
      "Node ID: 209259, PageRank Score: 2.8159637082090894e-05\n",
      "Node ID: 12116, PageRank Score: 2.8158112647101625e-05\n",
      "Node ID: 301116, PageRank Score: 2.8155580183094595e-05\n",
      "Node ID: 301150, PageRank Score: 2.8143978401023128e-05\n",
      "Node ID: 107086, PageRank Score: 2.8135021498931376e-05\n",
      "Node ID: 4028, PageRank Score: 2.8129251173734302e-05\n",
      "Node ID: 211268, PageRank Score: 2.812608754872008e-05\n",
      "Node ID: 303068, PageRank Score: 2.8119184330029654e-05\n",
      "Node ID: 102015, PageRank Score: 2.8112475063377577e-05\n",
      "Node ID: 301036, PageRank Score: 2.8104939899728414e-05\n",
      "Node ID: 212269, PageRank Score: 2.8102961843085457e-05\n",
      "Node ID: 303206, PageRank Score: 2.8083010548142667e-05\n",
      "Node ID: 207155, PageRank Score: 2.8074048240317322e-05\n",
      "Node ID: 108194, PageRank Score: 2.8070271479436954e-05\n",
      "Node ID: 210153, PageRank Score: 2.8063083820413394e-05\n",
      "Node ID: 205263, PageRank Score: 2.8047624454058226e-05\n",
      "Node ID: 304232, PageRank Score: 2.8042831536623826e-05\n",
      "Node ID: 210117, PageRank Score: 2.8039861810050732e-05\n",
      "Node ID: 101185, PageRank Score: 2.8022400434024146e-05\n",
      "Node ID: 207260, PageRank Score: 2.80151662253256e-05\n",
      "Node ID: 212036, PageRank Score: 2.80143546060555e-05\n",
      "Node ID: 303060, PageRank Score: 2.8009414809698494e-05\n",
      "Node ID: 6059, PageRank Score: 2.800754772815867e-05\n",
      "Node ID: 106163, PageRank Score: 2.799538706346657e-05\n",
      "Node ID: 304158, PageRank Score: 2.7984688885796865e-05\n",
      "Node ID: 204096, PageRank Score: 2.7973213020927715e-05\n",
      "Node ID: 303107, PageRank Score: 2.796988231712516e-05\n",
      "Node ID: 209263, PageRank Score: 2.7966687732691864e-05\n",
      "Node ID: 205208, PageRank Score: 2.796565832289561e-05\n",
      "Node ID: 201055, PageRank Score: 2.7962259501505863e-05\n",
      "Node ID: 11141, PageRank Score: 2.7952770894175507e-05\n",
      "Node ID: 110269, PageRank Score: 2.7952619849693782e-05\n",
      "Node ID: 107237, PageRank Score: 2.794604230518583e-05\n",
      "Node ID: 104250, PageRank Score: 2.7937449587989576e-05\n",
      "Node ID: 205084, PageRank Score: 2.7936445989356087e-05\n",
      "Node ID: 205231, PageRank Score: 2.7926754322044047e-05\n",
      "Node ID: 301174, PageRank Score: 2.792260020218569e-05\n",
      "Node ID: 9127, PageRank Score: 2.79224280864536e-05\n",
      "Node ID: 212333, PageRank Score: 2.7921711076953984e-05\n",
      "Node ID: 103184, PageRank Score: 2.7909545826621453e-05\n",
      "Node ID: 108081, PageRank Score: 2.79048373754389e-05\n",
      "Node ID: 3054, PageRank Score: 2.789973550085796e-05\n",
      "Node ID: 304059, PageRank Score: 2.7895884381251923e-05\n",
      "Node ID: 105008, PageRank Score: 2.789449254622233e-05\n",
      "Node ID: 12231, PageRank Score: 2.78922342844644e-05\n",
      "Node ID: 112166, PageRank Score: 2.789182340194609e-05\n",
      "Node ID: 207198, PageRank Score: 2.789069431881109e-05\n"
     ]
    }
   ],
   "source": [
    "# Create a mapping from node IDs to indices in the PageRank vector\n",
    "id_to_index = {id: i for i, id in enumerate(G.nodes())}\n",
    "\n",
    "# Get the indices of the top 100 nodes by PageRank score\n",
    "idx = np.argsort(r)[::-1][:100]\n",
    "\n",
    "# Print the ID and PageRank score for each of the top 100 nodes\n",
    "for i in idx:\n",
    "    node_id = list(G.nodes())[i]\n",
    "    pagerank_score = r[i]\n",
    "    print(f\"Node ID: {node_id}, PageRank Score: {pagerank_score}\")\n"
   ]
  },
  {
   "cell_type": "markdown",
   "id": "b0ba2208",
   "metadata": {},
   "source": [
    "Visualize your results"
   ]
  },
  {
   "cell_type": "code",
   "execution_count": 7,
   "id": "70f7bf77",
   "metadata": {},
   "outputs": [
    {
     "data": {
      "image/png": "[encoded data removed]",
      "text/plain": [
       "<Figure size 432x288 with 1 Axes>"
      ]
     },
     "metadata": {
      "needs_background": "light"
     },
     "output_type": "display_data"
    }
   ],
   "source": [
    "# Get the PageRank scores for the nodes in the graph\n",
    "pagerank_scores = np.array(list(nx.pagerank(G).values()))\n",
    "\n",
    "# Create a scatter plot of the PageRank scores\n",
    "plt.scatter(range(len(pagerank_scores)), pagerank_scores, s=5, alpha=0.5)\n",
    "plt.title(\"PageRank Scores\")\n",
    "plt.xlabel(\"Node\")\n",
    "plt.ylabel(\"Score\")\n",
    "plt.show()\n"
   ]
  }
 ],
 "metadata": {
  "kernelspec": {
   "display_name": "Python 3 (ipykernel)",
   "language": "python",
   "name": "python3"
  },
  "language_info": {
   "codemirror_mode": {
    "name": "ipython",
    "version": 3
   },
   "file_extension": ".py",
   "mimetype": "text/x-python",
   "name": "python",
   "nbconvert_exporter": "python",
   "pygments_lexer": "ipython3",
   "version": "3.9.7"
  }
 },
 "nbformat": 4,
 "nbformat_minor": 5
}
